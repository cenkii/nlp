{
 "cells": [
  {
   "cell_type": "code",
   "execution_count": 1,
   "metadata": {},
   "outputs": [],
   "source": [
    "import tensorflow as tf\n",
    "from collections import Counter\n",
    "import re\n",
    "import pandas as pd\n",
    "import os\n",
    "from tensorflow.keras.preprocessing.text import Tokenizer\n",
    "from tensorflow.keras.preprocessing.sequence import pad_sequences\n",
    "import numpy as np\n",
    "import matplotlib.pyplot as plt\n"
   ]
  },
  {
   "cell_type": "code",
   "execution_count": 2,
   "metadata": {},
   "outputs": [],
   "source": [
    "\"去除标点\"\n",
    "def remove_punctuation(line):\n",
    "    line = str(line)\n",
    "    if line.strip()=='':\n",
    "        return ''\n",
    "    rule = re.compile(u\"[^a-zA-Z0-9\\u4E00-\\u9FA5]\")\n",
    "    line = rule.sub(\"\",line)\n",
    "    \n",
    "    return line\n",
    "\n",
    "\"获取label\"\n",
    "def get_cat():\n",
    "    cat = set()\n",
    "    with open(\"cnews\\cnews.train.txt\",encoding='utf-8') as f:\n",
    "        for i in f.readlines():\n",
    "            text = i.split('\\t')[0]\n",
    "            cat.add(text)\n",
    "    return list(cat)\n",
    "\n",
    "\n",
    "\n",
    "\"转换为字，并以csv格式输出\"\n",
    "def text_cut(data_path):\n",
    "\n",
    "    with open(data_path+\"dict_word\",encoding='utf-8') as f:\n",
    "        dict_word = eval(f.readline())\n",
    "    \n",
    "    cat = get_cat()\n",
    "    \n",
    "    text_cut_one(data_path+\"cnews.train.txt\",output_path=os.getcwd()+\"\\\\cnews\\\\train.csv\",dict_word=dict_word,cat=cat)\n",
    "    text_cut_one(data_path+\"cnews.test.txt\",output_path=os.getcwd()+\"\\\\cnews\\\\test.csv\",dict_word=dict_word,cat=cat)\n",
    "    text_cut_one(data_path+\"cnews.val.txt\",output_path=os.getcwd()+\"\\\\cnews\\\\val.csv\",dict_word=dict_word,cat=cat)\n",
    "    \n",
    "                \n",
    "def text_cut_one(data_path,output_path,dict_word,cat):\n",
    "    \n",
    "    df = pd.DataFrame()\n",
    "    \n",
    "    labels = []\n",
    "    texts = []\n",
    "    \n",
    "    with open(data_path,encoding='utf-8') as f:\n",
    "        for i in f.readlines():\n",
    "            label = i.split('\\t')[0]\n",
    "            labels.append(cat.index(label))\n",
    "            text = i.split('\\t')[1]\n",
    "            text = remove_punctuation(text)\n",
    "            l = []\n",
    "            for j in text:\n",
    "                l.append(j)\n",
    "                \n",
    "            texts.append(\",\".join(l))\n",
    "\n",
    "    df['text'] = texts\n",
    "    df['label'] = labels\n",
    "    \n",
    "    df.to_csv(output_path)\n",
    "    print(\"完成！！\")"
   ]
  },
  {
   "cell_type": "code",
   "execution_count": 4,
   "metadata": {
    "scrolled": true
   },
   "outputs": [
    {
     "name": "stdout",
     "output_type": "stream",
     "text": [
      "完成！！\n",
      "完成！！\n",
      "完成！！\n"
     ]
    }
   ],
   "source": [
    "text_cut(\"cnews/\")"
   ]
  },
  {
   "cell_type": "code",
   "execution_count": 5,
   "metadata": {},
   "outputs": [
    {
     "data": {
      "text/plain": [
       "False"
      ]
     },
     "execution_count": 5,
     "metadata": {},
     "output_type": "execute_result"
    }
   ],
   "source": [
    "tf.test.is_built_with_cuda()"
   ]
  },
  {
   "cell_type": "code",
   "execution_count": 8,
   "metadata": {},
   "outputs": [
    {
     "name": "stdout",
     "output_type": "stream",
     "text": [
      "Model: \"sequential_1\"\n",
      "_________________________________________________________________\n",
      "Layer (type)                 Output Shape              Param #   \n",
      "=================================================================\n",
      "embedding_1 (Embedding)      (None, None, 128)         640000    \n",
      "_________________________________________________________________\n",
      "lstm_1 (LSTM)                (None, 128)               131584    \n",
      "_________________________________________________________________\n",
      "dense_2 (Dense)              (None, 128)               16512     \n",
      "_________________________________________________________________\n",
      "dense_3 (Dense)              (None, 11)                1419      \n",
      "=================================================================\n",
      "Total params: 789,515\n",
      "Trainable params: 789,515\n",
      "Non-trainable params: 0\n",
      "_________________________________________________________________\n"
     ]
    }
   ],
   "source": [
    "vocab_size = 5000\n",
    "embedding_dim = 128\n",
    "max_length = 128\n",
    "trunc_type = 'post' #从后截取\n",
    "padding_type = 'post' #从后填充\n",
    "unk_tok = '<unk>'\n",
    "\n",
    "model = tf.keras.Sequential([\n",
    "    tf.keras.layers.Embedding(vocab_size,embedding_dim),\n",
    "#     tf.keras.layers.Bidirectional(tf.keras.layers.LSTM(embedding_dim,dropout=0.5)),\n",
    "    tf.keras.layers.LSTM(embedding_dim,dropout=0.5),\n",
    "    tf.keras.layers.Dense(embedding_dim,activation='relu'),#kernel_regularizer=tf.keras.regularizers.l2()),\n",
    "    tf.keras.layers.Dense(11,activation='softmax')#,kernel_regularizer=tf.keras.regularizers.l2())\n",
    "])\n",
    "model.summary()"
   ]
  },
  {
   "cell_type": "code",
   "execution_count": 9,
   "metadata": {},
   "outputs": [],
   "source": [
    "train = pd.read_csv(\"cnews\\\\train.csv\")\n",
    "val = pd.read_csv(\"cnews\\\\val.csv\")\n",
    "test = pd.read_csv(\"cnews\\\\test.csv\")"
   ]
  },
  {
   "cell_type": "code",
   "execution_count": 10,
   "metadata": {},
   "outputs": [],
   "source": [
    "tokenizer = Tokenizer(num_words=vocab_size,split=',',oov_token=unk_tok)\n",
    "tokenizer.fit_on_texts(train.text.values)"
   ]
  },
  {
   "cell_type": "code",
   "execution_count": 11,
   "metadata": {},
   "outputs": [
    {
     "data": {
      "text/plain": [
       "5707"
      ]
     },
     "execution_count": 11,
     "metadata": {},
     "output_type": "execute_result"
    }
   ],
   "source": [
    "len(tokenizer.index_word)"
   ]
  },
  {
   "cell_type": "code",
   "execution_count": 12,
   "metadata": {},
   "outputs": [],
   "source": [
    "x_train_squences = tokenizer.texts_to_sequences(train.text.values)\n",
    "x_train_pad = pad_sequences(x_train_squences,maxlen=max_length,padding=padding_type,truncating=trunc_type)\n",
    "\n",
    "x_val_squences = tokenizer.texts_to_sequences(val.text.values)\n",
    "x_val_pad = pad_sequences(x_val_squences,maxlen=max_length,padding=padding_type,truncating=trunc_type)"
   ]
  },
  {
   "cell_type": "code",
   "execution_count": 13,
   "metadata": {},
   "outputs": [],
   "source": [
    "y_train_seq = np.array(train.label.values)\n",
    "y_val_seq = np.array(val.label.values)"
   ]
  },
  {
   "cell_type": "code",
   "execution_count": 14,
   "metadata": {},
   "outputs": [],
   "source": [
    "model.compile(loss='sparse_categorical_crossentropy',optimizer='adam', metrics=['accuracy'])"
   ]
  },
  {
   "cell_type": "code",
   "execution_count": 15,
   "metadata": {},
   "outputs": [
    {
     "name": "stdout",
     "output_type": "stream",
     "text": [
      "Train on 50000 samples, validate on 5000 samples\n",
      "Epoch 1/15\n",
      "50000/50000 [==============================] - 173s 3ms/sample - loss: 1.5161 - accuracy: 0.4297 - val_loss: 1.4148 - val_accuracy: 0.4946\n",
      "Epoch 2/15\n",
      "50000/50000 [==============================] - 176s 4ms/sample - loss: 0.8593 - accuracy: 0.7128 - val_loss: 0.7181 - val_accuracy: 0.7762\n",
      "Epoch 3/15\n",
      "50000/50000 [==============================] - 181s 4ms/sample - loss: 0.3752 - accuracy: 0.8868 - val_loss: 0.5326 - val_accuracy: 0.8442\n",
      "Epoch 4/15\n",
      "50000/50000 [==============================] - 189s 4ms/sample - loss: 0.2448 - accuracy: 0.9275 - val_loss: 0.4346 - val_accuracy: 0.8690\n",
      "Epoch 5/15\n",
      "50000/50000 [==============================] - 188s 4ms/sample - loss: 0.1929 - accuracy: 0.9436 - val_loss: 0.3812 - val_accuracy: 0.8866\n",
      "Epoch 6/15\n",
      "50000/50000 [==============================] - 194s 4ms/sample - loss: 0.1556 - accuracy: 0.9536 - val_loss: 0.3575 - val_accuracy: 0.8926\n",
      "Epoch 7/15\n",
      "50000/50000 [==============================] - 196s 4ms/sample - loss: 0.1274 - accuracy: 0.9623 - val_loss: 0.4029 - val_accuracy: 0.8864\n",
      "Epoch 8/15\n",
      "50000/50000 [==============================] - 196s 4ms/sample - loss: 0.1072 - accuracy: 0.9680 - val_loss: 0.4141 - val_accuracy: 0.8826\n",
      "Epoch 9/15\n",
      "50000/50000 [==============================] - 192s 4ms/sample - loss: 0.0929 - accuracy: 0.9717 - val_loss: 0.3378 - val_accuracy: 0.9030\n",
      "Epoch 10/15\n",
      "50000/50000 [==============================] - 196s 4ms/sample - loss: 0.0809 - accuracy: 0.9755 - val_loss: 0.3650 - val_accuracy: 0.9062\n",
      "Epoch 11/15\n",
      "50000/50000 [==============================] - 195s 4ms/sample - loss: 0.0672 - accuracy: 0.9799 - val_loss: 0.4974 - val_accuracy: 0.8834\n",
      "Epoch 12/15\n",
      "50000/50000 [==============================] - 194s 4ms/sample - loss: 0.0603 - accuracy: 0.9805 - val_loss: 0.5565 - val_accuracy: 0.8822\n",
      "Epoch 13/15\n",
      "50000/50000 [==============================] - 197s 4ms/sample - loss: 0.0512 - accuracy: 0.9838 - val_loss: 0.4465 - val_accuracy: 0.8996\n",
      "Epoch 14/15\n",
      "50000/50000 [==============================] - 196s 4ms/sample - loss: 0.0449 - accuracy: 0.9854 - val_loss: 0.5013 - val_accuracy: 0.8954\n",
      "Epoch 15/15\n",
      "50000/50000 [==============================] - 196s 4ms/sample - loss: 0.0388 - accuracy: 0.9875 - val_loss: 0.4889 - val_accuracy: 0.8990\n"
     ]
    }
   ],
   "source": [
    "history = model.fit(x_train_pad,y_train_seq,batch_size = 64,validation_data =(x_val_pad,y_val_seq),epochs=15)"
   ]
  },
  {
   "cell_type": "code",
   "execution_count": 16,
   "metadata": {},
   "outputs": [
    {
     "data": {
      "image/png": "[encoded data removed]",
      "text/plain": [
       "<Figure size 432x288 with 1 Axes>"
      ]
     },
     "metadata": {
      "needs_background": "light"
     },
     "output_type": "display_data"
    },
    {
     "data": {
      "image/png": "[encoded data removed]",
      "text/plain": [
       "<Figure size 432x288 with 1 Axes>"
      ]
     },
     "metadata": {
      "needs_background": "light"
     },
     "output_type": "display_data"
    }
   ],
   "source": [
    "\n",
    "def plot_graphs(history, string):    \n",
    "    plt.plot(history.history[string])\n",
    "    plt.plot(history.history['val_'+string])\n",
    "    plt.xlabel(\"Epochs\")\n",
    "    plt.ylabel(string)\n",
    "    plt.legend([string, 'val_'+string])\n",
    "    plt.show()\n",
    "plot_graphs(history, \"accuracy\")\n",
    "plot_graphs(history, \"loss\")"
   ]
  },
  {
   "cell_type": "code",
   "execution_count": null,
   "metadata": {},
   "outputs": [],
   "source": []
  }
 ],
 "metadata": {
  "kernelspec": {
   "display_name": "Python 3",
   "language": "python",
   "name": "python3"
  },
  "language_info": {
   "codemirror_mode": {
    "name": "ipython",
    "version": 3
   },
   "file_extension": ".py",
   "mimetype": "text/x-python",
   "name": "python",
   "nbconvert_exporter": "python",
   "pygments_lexer": "ipython3",
   "version": "3.7.6"
  }
 },
 "nbformat": 4,
 "nbformat_minor": 4
}
