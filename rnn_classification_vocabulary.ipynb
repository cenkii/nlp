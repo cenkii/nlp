{
 "cells": [
  {
   "cell_type": "code",
   "execution_count": 2,
   "metadata": {},
   "outputs": [],
   "source": [
    "import jieba\n",
    "import tensorflow as tf\n",
    "from collections import Counter\n",
    "import re\n",
    "import pandas as pd\n",
    "import os\n",
    "from tensorflow.keras.preprocessing.text import Tokenizer\n",
    "from tensorflow.keras.preprocessing.sequence import pad_sequences\n",
    "import numpy as np\n",
    "import matplotlib.pyplot as plt\n"
   ]
  },
  {
   "cell_type": "code",
   "execution_count": 3,
   "metadata": {},
   "outputs": [],
   "source": [
    "def stopwords(filepath):\n",
    "    stopwords = [line.strip() for line in open(filepath,'r',encoding='utf-8').readlines()]\n",
    "    return stopwords\n",
    "\n",
    "\"去除标点\"\n",
    "def remove_punctuation(line):\n",
    "    line = str(line)\n",
    "    if line.strip()=='':\n",
    "        return ''\n",
    "    rule = re.compile(u\"[^a-zA-Z0-9\\u4E00-\\u9FA5]\")\n",
    "    line = rule.sub(\"\",line)\n",
    "    \n",
    "    return line\n",
    "\n",
    "\"获取label\"\n",
    "def get_cat():\n",
    "    cat = set()\n",
    "    with open(\"cnews\\cnews.train.txt\",encoding='utf-8') as f:\n",
    "        for i in f.readlines():\n",
    "            text = i.split('\\t')[0]\n",
    "            cat.add(text)\n",
    "    return list(cat)\n",
    "\n",
    "\n",
    "\n",
    "\"转换为字，并以csv格式输出\"\n",
    "def text_cut(data_path):\n",
    "\n",
    "    with open(data_path+\"dict_word\",encoding='utf-8') as f:\n",
    "        dict_word = eval(f.readline())\n",
    "    \n",
    "    cat = get_cat()\n",
    "    \n",
    "    text_cut_one(data_path+\"cnews.train.txt\",output_path=os.getcwd()+\"\\\\cnews\\\\train_vocab.csv\",dict_word=dict_word,cat=cat)\n",
    "    text_cut_one(data_path+\"cnews.test.txt\",output_path=os.getcwd()+\"\\\\cnews\\\\test_vocab.csv\",dict_word=dict_word,cat=cat)\n",
    "    text_cut_one(data_path+\"cnews.val.txt\",output_path=os.getcwd()+\"\\\\cnews\\\\val_vocab.csv\",dict_word=dict_word,cat=cat)\n",
    "    \n",
    "                \n",
    "def text_cut_one(data_path,output_path,dict_word,cat):\n",
    "    \n",
    "    df = pd.DataFrame()\n",
    "    \n",
    "    labels = []\n",
    "    texts = []\n",
    "    \n",
    "    with open(data_path,encoding='utf-8') as f:\n",
    "        for i in f.readlines():\n",
    "            label = i.split('\\t')[0]\n",
    "            labels.append(cat.index(label))\n",
    "            text = i.split('\\t')[1]\n",
    "            text = remove_punctuation(text)\n",
    "            l = jieba.lcut(text)\n",
    "            texts.append(\",\".join(l))\n",
    "\n",
    "    df['text'] = texts\n",
    "    df['label'] = labels\n",
    "    \n",
    "    df.to_csv(output_path)\n",
    "    print(\"完成！！\")"
   ]
  },
  {
   "cell_type": "code",
   "execution_count": 4,
   "metadata": {},
   "outputs": [
    {
     "name": "stderr",
     "output_type": "stream",
     "text": [
      "Building prefix dict from the default dictionary ...\n",
      "Loading model from cache C:\\Users\\陈琪\\AppData\\Local\\Temp\\jieba.cache\n",
      "Loading model cost 0.733 seconds.\n",
      "Prefix dict has been built successfully.\n"
     ]
    },
    {
     "name": "stdout",
     "output_type": "stream",
     "text": [
      "完成！！\n",
      "完成！！\n",
      "完成！！\n"
     ]
    }
   ],
   "source": [
    "text_cut(\"cnews/\")"
   ]
  },
  {
   "cell_type": "code",
   "execution_count": 5,
   "metadata": {},
   "outputs": [
    {
     "name": "stdout",
     "output_type": "stream",
     "text": [
      "Model: \"sequential\"\n",
      "_________________________________________________________________\n",
      "Layer (type)                 Output Shape              Param #   \n",
      "=================================================================\n",
      "embedding (Embedding)        (None, None, 128)         640000    \n",
      "_________________________________________________________________\n",
      "lstm (LSTM)                  (None, 128)               131584    \n",
      "_________________________________________________________________\n",
      "dense (Dense)                (None, 128)               16512     \n",
      "_________________________________________________________________\n",
      "dense_1 (Dense)              (None, 11)                1419      \n",
      "=================================================================\n",
      "Total params: 789,515\n",
      "Trainable params: 789,515\n",
      "Non-trainable params: 0\n",
      "_________________________________________________________________\n"
     ]
    }
   ],
   "source": [
    "vocab_size = 5000\n",
    "embedding_dim = 128\n",
    "max_length = 128\n",
    "trunc_type = 'post' #从后截取\n",
    "padding_type = 'post' #从后填充\n",
    "unk_tok = '<unk>'\n",
    "\n",
    "model = tf.keras.Sequential([\n",
    "    tf.keras.layers.Embedding(vocab_size,embedding_dim),\n",
    "#     tf.keras.layers.Bidirectional(tf.keras.layers.LSTM(embedding_dim,dropout=0.5)),\n",
    "    tf.keras.layers.LSTM(embedding_dim,dropout=0.5),\n",
    "    tf.keras.layers.Dense(embedding_dim,activation='relu'),#kernel_regularizer=tf.keras.regularizers.l2()),\n",
    "    tf.keras.layers.Dense(11,activation='softmax')#,kernel_regularizer=tf.keras.regularizers.l2())\n",
    "])\n",
    "model.summary()"
   ]
  },
  {
   "cell_type": "code",
   "execution_count": 6,
   "metadata": {},
   "outputs": [],
   "source": [
    "train = pd.read_csv(\"cnews/train_vocab.csv\")\n",
    "val = pd.read_csv(\"cnews/val_vocab.csv\")\n",
    "test = pd.read_csv(\"cnews/test_vocab.csv\")"
   ]
  },
  {
   "cell_type": "code",
   "execution_count": 7,
   "metadata": {},
   "outputs": [],
   "source": [
    "tokenizer = Tokenizer(num_words=vocab_size,split=',',oov_token=unk_tok)\n"
   ]
  },
  {
   "cell_type": "code",
   "execution_count": 8,
   "metadata": {},
   "outputs": [],
   "source": [
    "tokenizer.fit_on_texts(train.text.values)\n",
    "x_train_seq = tokenizer.texts_to_sequences(train.text.values)\n",
    "x_train_pad = pad_sequences(x_train_seq,maxlen=max_length,padding=padding_type,truncating=trunc_type)\n",
    "\n",
    "x_val_seq = tokenizer.texts_to_sequences(val.text.values)\n",
    "x_val_pad = pad_sequences(x_val_seq,maxlen = max_length,padding=padding_type,truncating=trunc_type)\n",
    "\n",
    "y_train = np.array(train.label.values)\n",
    "y_val = np.array(val.label.values)\n"
   ]
  },
  {
   "cell_type": "code",
   "execution_count": 9,
   "metadata": {},
   "outputs": [],
   "source": [
    "model.compile(loss='sparse_categorical_crossentropy',optimizer='adam', metrics=['accuracy'])"
   ]
  },
  {
   "cell_type": "code",
   "execution_count": 10,
   "metadata": {},
   "outputs": [
    {
     "name": "stdout",
     "output_type": "stream",
     "text": [
      "Train on 50000 samples, validate on 5000 samples\n",
      "Epoch 1/10\n",
      "50000/50000 [==============================] - 176s 4ms/sample - loss: 1.6113 - accuracy: 0.4059 - val_loss: 2.2115 - val_accuracy: 0.2966\n",
      "Epoch 2/10\n",
      "50000/50000 [==============================] - 177s 4ms/sample - loss: 0.9234 - accuracy: 0.6900 - val_loss: 0.7988 - val_accuracy: 0.7378\n",
      "Epoch 3/10\n",
      "50000/50000 [==============================] - 186s 4ms/sample - loss: 0.5308 - accuracy: 0.8381 - val_loss: 0.6217 - val_accuracy: 0.8034\n",
      "Epoch 4/10\n",
      "50000/50000 [==============================] - 190s 4ms/sample - loss: 0.2710 - accuracy: 0.9232 - val_loss: 0.2931 - val_accuracy: 0.9110\n",
      "Epoch 5/10\n",
      "50000/50000 [==============================] - 191s 4ms/sample - loss: 0.1803 - accuracy: 0.9497 - val_loss: 0.3306 - val_accuracy: 0.9052\n",
      "Epoch 6/10\n",
      "50000/50000 [==============================] - 192s 4ms/sample - loss: 0.1436 - accuracy: 0.9603 - val_loss: 0.3532 - val_accuracy: 0.8930\n",
      "Epoch 7/10\n",
      "50000/50000 [==============================] - 191s 4ms/sample - loss: 0.1287 - accuracy: 0.9628 - val_loss: 0.2466 - val_accuracy: 0.9324\n",
      "Epoch 8/10\n",
      "50000/50000 [==============================] - 195s 4ms/sample - loss: 0.0961 - accuracy: 0.9732 - val_loss: 0.2977 - val_accuracy: 0.9250\n",
      "Epoch 9/10\n",
      "50000/50000 [==============================] - 197s 4ms/sample - loss: 0.0807 - accuracy: 0.9760 - val_loss: 0.2882 - val_accuracy: 0.9294\n",
      "Epoch 10/10\n",
      "50000/50000 [==============================] - 199s 4ms/sample - loss: 0.0686 - accuracy: 0.9802 - val_loss: 0.3287 - val_accuracy: 0.9210\n"
     ]
    }
   ],
   "source": [
    "history = model.fit(x_train_pad,y_train,batch_size = 64,validation_data =(x_val_pad,y_val),epochs=10)"
   ]
  },
  {
   "cell_type": "code",
   "execution_count": 11,
   "metadata": {},
   "outputs": [
    {
     "data": {
      "image/png": "[encoded data removed]",
      "text/plain": [
       "<Figure size 432x288 with 1 Axes>"
      ]
     },
     "metadata": {
      "needs_background": "light"
     },
     "output_type": "display_data"
    },
    {
     "data": {
      "image/png": "[encoded data removed]",
      "text/plain": [
       "<Figure size 432x288 with 1 Axes>"
      ]
     },
     "metadata": {
      "needs_background": "light"
     },
     "output_type": "display_data"
    }
   ],
   "source": [
    "def plot_graphs(history, string):    \n",
    "    plt.plot(history.history[string])\n",
    "    plt.plot(history.history['val_'+string])\n",
    "    plt.xlabel(\"Epochs\")\n",
    "    plt.ylabel(string)\n",
    "    plt.legend([string, 'val_'+string])\n",
    "    plt.show()\n",
    "plot_graphs(history, \"accuracy\")\n",
    "plot_graphs(history, \"loss\")"
   ]
  }
 ],
 "metadata": {
  "kernelspec": {
   "display_name": "Python 3",
   "language": "python",
   "name": "python3"
  },
  "language_info": {
   "codemirror_mode": {
    "name": "ipython",
    "version": 3
   },
   "file_extension": ".py",
   "mimetype": "text/x-python",
   "name": "python",
   "nbconvert_exporter": "python",
   "pygments_lexer": "ipython3",
   "version": "3.7.6"
  }
 },
 "nbformat": 4,
 "nbformat_minor": 4
}
